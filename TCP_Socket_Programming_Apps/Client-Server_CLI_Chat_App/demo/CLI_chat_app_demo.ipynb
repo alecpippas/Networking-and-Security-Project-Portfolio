{
 "cells": [
  {
   "cell_type": "markdown",
   "id": "cc54f904",
   "metadata": {},
   "source": [
    "### Command-line Chat Application Demo\n",
    "\n",
    "The demo uses a customer configured virtual network ran on NYU's private Cloud platform, Vital.\n",
    "\n",
    "Refer to `Virtual_Network-Diagram.pdf` for a basic diagram of the network used.\n",
    "\n",
    "__Cliet Host__: KALI \\\n",
    "__Server Host__: R3"
   ]
  },
  {
   "cell_type": "markdown",
   "id": "20706eb3",
   "metadata": {},
   "source": [
    "#### Client Terminal: Secret Message Conversation\n",
    "\n",
    "![alt text](images/client_convo.jpg)"
   ]
  },
  {
   "cell_type": "markdown",
   "id": "24080f55",
   "metadata": {},
   "source": [
    "#### Server Terminal: Secret Message Conversation\n",
    "\n",
    "![alt text](images/server_convo.jpg)"
   ]
  }
 ],
 "metadata": {
  "language_info": {
   "name": "python"
  }
 },
 "nbformat": 4,
 "nbformat_minor": 5
}
