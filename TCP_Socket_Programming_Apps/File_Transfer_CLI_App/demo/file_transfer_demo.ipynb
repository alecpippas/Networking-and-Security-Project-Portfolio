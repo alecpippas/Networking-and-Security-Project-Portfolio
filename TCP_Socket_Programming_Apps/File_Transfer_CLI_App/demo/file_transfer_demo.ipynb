{
 "cells": [
  {
   "cell_type": "markdown",
   "id": "9027e892",
   "metadata": {},
   "source": [
    "### File Transfer Demo\n",
    "\n",
    "The demo uses a customer configured virtual network ran on NYU's private Cloud platform, Vital.\n",
    "\n",
    "Refer to `Virtual_Network-Diagram.pdf` for a basic diagram of the network used.\n",
    "\n",
    "__Cliet Host__: KALI \\\n",
    "__Server Host__: R3"
   ]
  },
  {
   "cell_type": "markdown",
   "id": "f65adeac",
   "metadata": {},
   "source": [
    "#### Client Test File\n",
    "\n",
    "\n",
    "![alt text](images/client_test_file.jpg)"
   ]
  },
  {
   "cell_type": "markdown",
   "id": "e6b4ccb2",
   "metadata": {},
   "source": [
    "#### Client Terminal Command\n",
    "\n",
    "\n",
    "![alt text](images/client_terminal.png)"
   ]
  },
  {
   "cell_type": "markdown",
   "id": "8bf0eb53",
   "metadata": {},
   "source": [
    "#### Received File Saved to Server's Disk\n",
    "\n",
    "![alt text](images/received_server_file.jpg)"
   ]
  },
  {
   "cell_type": "markdown",
   "id": "15828436",
   "metadata": {
    "vscode": {
     "languageId": "plaintext"
    }
   },
   "source": [
    "Server Terminal: Confirmation Messages\n",
    "\n",
    "![alt text](images/serverTerminal_confirmation_message.png)"
   ]
  }
 ],
 "metadata": {
  "language_info": {
   "name": "python"
  }
 },
 "nbformat": 4,
 "nbformat_minor": 5
}
